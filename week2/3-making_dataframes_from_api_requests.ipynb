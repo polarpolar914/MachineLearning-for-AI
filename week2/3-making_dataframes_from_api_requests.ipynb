{
  "cells": [
    {
      "cell_type": "markdown",
      "metadata": {
        "id": "view-in-github",
        "colab_type": "text"
      },
      "source": [
        "<a href=\"https://colab.research.google.com/github/polarpolar914/MachineLearning-for-AI/blob/main/week2/3-making_dataframes_from_api_requests.ipynb\" target=\"_parent\"><img src=\"https://colab.research.google.com/assets/colab-badge.svg\" alt=\"Open In Colab\"/></a>"
      ]
    },
    {
      "cell_type": "markdown",
      "metadata": {
        "id": "OfA4lpK7ZkyX"
      },
      "source": [
        "# Making Pandas DataFrames from API Requests\n",
        "In this example, we will use the U.S. Geological Survey's API to grab a JSON object of earthquake data and convert it to a `pandas.DataFrame`.\n",
        "\n",
        "USGS API: https://earthquake.usgs.gov/fdsnws/event/1/"
      ]
    },
    {
      "cell_type": "code",
      "source": [
        "!wget https://raw.githubusercontent.com/stefmolin/Hands-On-Data-Analysis-with-Pandas-2nd-edition/master/ch_02/data/earthquakes.csv\n",
        "\n",
        "!wget https://raw.githubusercontent.com/stefmolin/Hands-On-Data-Analysis-with-Pandas-2nd-edition/master/ch_02/data/example_data.csv\n",
        "\n",
        "!wget https://raw.githubusercontent.com/stefmolin/Hands-On-Data-Analysis-with-Pandas-2nd-edition/master/ch_02/data/parsed.csv\n",
        "\n",
        "!wget https://raw.githubusercontent.com/stefmolin/Hands-On-Data-Analysis-with-Pandas-2nd-edition/master/ch_02/data/quakes.db\n",
        "\n",
        "!wget https://raw.githubusercontent.com/stefmolin/Hands-On-Data-Analysis-with-Pandas-2nd-edition/master/ch_02/data/tsunamis.csv\n",
        "\n",
        "!mkdir data\n",
        "\n",
        "!mv *.csv data\n",
        "\n",
        "!mv *.db data"
      ],
      "metadata": {
        "colab": {
          "base_uri": "https://localhost:8080/"
        },
        "id": "_YCTc1-sZl4w",
        "outputId": "6156fd9f-161b-4097-dc2d-966c5a2810db"
      },
      "execution_count": 1,
      "outputs": [
        {
          "output_type": "stream",
          "name": "stdout",
          "text": [
            "--2024-09-18 23:10:15--  https://raw.githubusercontent.com/stefmolin/Hands-On-Data-Analysis-with-Pandas-2nd-edition/master/ch_02/data/earthquakes.csv\n",
            "Resolving raw.githubusercontent.com (raw.githubusercontent.com)... 185.199.108.133, 185.199.109.133, 185.199.110.133, ...\n",
            "Connecting to raw.githubusercontent.com (raw.githubusercontent.com)|185.199.108.133|:443... connected.\n",
            "HTTP request sent, awaiting response... 200 OK\n",
            "Length: 3515656 (3.4M) [text/plain]\n",
            "Saving to: ‘earthquakes.csv’\n",
            "\n",
            "earthquakes.csv     100%[===================>]   3.35M  --.-KB/s    in 0.1s    \n",
            "\n",
            "2024-09-18 23:10:15 (32.8 MB/s) - ‘earthquakes.csv’ saved [3515656/3515656]\n",
            "\n",
            "--2024-09-18 23:10:15--  https://raw.githubusercontent.com/stefmolin/Hands-On-Data-Analysis-with-Pandas-2nd-edition/master/ch_02/data/example_data.csv\n",
            "Resolving raw.githubusercontent.com (raw.githubusercontent.com)... 185.199.110.133, 185.199.109.133, 185.199.111.133, ...\n",
            "Connecting to raw.githubusercontent.com (raw.githubusercontent.com)|185.199.110.133|:443... connected.\n",
            "HTTP request sent, awaiting response... 200 OK\n",
            "Length: 397 [text/plain]\n",
            "Saving to: ‘example_data.csv’\n",
            "\n",
            "example_data.csv    100%[===================>]     397  --.-KB/s    in 0s      \n",
            "\n",
            "2024-09-18 23:10:15 (16.3 MB/s) - ‘example_data.csv’ saved [397/397]\n",
            "\n",
            "--2024-09-18 23:10:16--  https://raw.githubusercontent.com/stefmolin/Hands-On-Data-Analysis-with-Pandas-2nd-edition/master/ch_02/data/parsed.csv\n",
            "Resolving raw.githubusercontent.com (raw.githubusercontent.com)... 185.199.108.133, 185.199.109.133, 185.199.110.133, ...\n",
            "Connecting to raw.githubusercontent.com (raw.githubusercontent.com)|185.199.108.133|:443... connected.\n",
            "HTTP request sent, awaiting response... 200 OK\n",
            "Length: 3616212 (3.4M) [text/plain]\n",
            "Saving to: ‘parsed.csv’\n",
            "\n",
            "parsed.csv          100%[===================>]   3.45M  --.-KB/s    in 0.1s    \n",
            "\n",
            "2024-09-18 23:10:16 (30.7 MB/s) - ‘parsed.csv’ saved [3616212/3616212]\n",
            "\n",
            "--2024-09-18 23:10:16--  https://raw.githubusercontent.com/stefmolin/Hands-On-Data-Analysis-with-Pandas-2nd-edition/master/ch_02/data/quakes.db\n",
            "Resolving raw.githubusercontent.com (raw.githubusercontent.com)... 185.199.108.133, 185.199.109.133, 185.199.110.133, ...\n",
            "Connecting to raw.githubusercontent.com (raw.githubusercontent.com)|185.199.108.133|:443... connected.\n",
            "HTTP request sent, awaiting response... 200 OK\n",
            "Length: 16384 (16K) [application/octet-stream]\n",
            "Saving to: ‘quakes.db’\n",
            "\n",
            "quakes.db           100%[===================>]  16.00K  --.-KB/s    in 0.002s  \n",
            "\n",
            "2024-09-18 23:10:16 (9.84 MB/s) - ‘quakes.db’ saved [16384/16384]\n",
            "\n",
            "--2024-09-18 23:10:17--  https://raw.githubusercontent.com/stefmolin/Hands-On-Data-Analysis-with-Pandas-2nd-edition/master/ch_02/data/tsunamis.csv\n",
            "Resolving raw.githubusercontent.com (raw.githubusercontent.com)... 185.199.108.133, 185.199.109.133, 185.199.110.133, ...\n",
            "Connecting to raw.githubusercontent.com (raw.githubusercontent.com)|185.199.108.133|:443... connected.\n",
            "HTTP request sent, awaiting response... 200 OK\n",
            "Length: 6792 (6.6K) [text/plain]\n",
            "Saving to: ‘tsunamis.csv’\n",
            "\n",
            "tsunamis.csv        100%[===================>]   6.63K  --.-KB/s    in 0s      \n",
            "\n",
            "2024-09-18 23:10:17 (67.1 MB/s) - ‘tsunamis.csv’ saved [6792/6792]\n",
            "\n"
          ]
        }
      ]
    },
    {
      "cell_type": "markdown",
      "metadata": {
        "id": "Q_er2F6HZkyZ"
      },
      "source": [
        "### Get Data from API"
      ]
    },
    {
      "cell_type": "code",
      "execution_count": 2,
      "metadata": {
        "colab": {
          "base_uri": "https://localhost:8080/"
        },
        "id": "xSTbUDkQZkya",
        "outputId": "a47fffec-d8b9-4a5f-e83e-5e177d7f69cd"
      },
      "outputs": [
        {
          "output_type": "execute_result",
          "data": {
            "text/plain": [
              "200"
            ]
          },
          "metadata": {},
          "execution_count": 2
        }
      ],
      "source": [
        "import datetime as dt\n",
        "import pandas as pd\n",
        "import requests\n",
        "\n",
        "yesterday = dt.date.today() - dt.timedelta(days=1)\n",
        "api = 'https://earthquake.usgs.gov/fdsnws/event/1/query'\n",
        "payload = {\n",
        "    'format': 'geojson',\n",
        "    'starttime': yesterday - dt.timedelta(days=30),\n",
        "    'endtime': yesterday\n",
        "}\n",
        "response = requests.get(api, params=payload)\n",
        "\n",
        "# let's make sure the request was OK\n",
        "response.status_code"
      ]
    },
    {
      "cell_type": "markdown",
      "metadata": {
        "id": "iUz5GsPpZkyc"
      },
      "source": [
        "Response of 200 means OK, so we can pull the data out of the result. Since we asked the API for a JSON payload, we can extract it from the response with the `json()` method.\n",
        "\n",
        "### Isolate the Data from the JSON Response\n",
        "We need to check the structures of the response data to know where our data is."
      ]
    },
    {
      "cell_type": "code",
      "execution_count": 3,
      "metadata": {
        "colab": {
          "base_uri": "https://localhost:8080/"
        },
        "id": "9ZX7DbW4Zkyc",
        "outputId": "10cdb50e-1745-4ab6-c8a6-c790e78a9e0d"
      },
      "outputs": [
        {
          "output_type": "execute_result",
          "data": {
            "text/plain": [
              "dict_keys(['type', 'metadata', 'features', 'bbox'])"
            ]
          },
          "metadata": {},
          "execution_count": 3
        }
      ],
      "source": [
        "earthquake_json = response.json()\n",
        "earthquake_json.keys()"
      ]
    },
    {
      "cell_type": "markdown",
      "metadata": {
        "id": "mavPMKuAZkyd"
      },
      "source": [
        "The USGS API provides information about our request in the `metadata` key. Note that your result will be different, regardless of the date range you chose, because the API includes a timestamp for when the data was pulled:"
      ]
    },
    {
      "cell_type": "code",
      "execution_count": 4,
      "metadata": {
        "colab": {
          "base_uri": "https://localhost:8080/"
        },
        "id": "ku3Hn1-TZkyd",
        "outputId": "76a0603b-d9b2-4abf-a9db-3b9e7784d486"
      },
      "outputs": [
        {
          "output_type": "execute_result",
          "data": {
            "text/plain": [
              "{'generated': 1726701021000,\n",
              " 'url': 'https://earthquake.usgs.gov/fdsnws/event/1/query?format=geojson&starttime=2024-08-18&endtime=2024-09-17',\n",
              " 'title': 'USGS Earthquakes',\n",
              " 'status': 200,\n",
              " 'api': '1.14.1',\n",
              " 'count': 9957}"
            ]
          },
          "metadata": {},
          "execution_count": 4
        }
      ],
      "source": [
        "earthquake_json['metadata']"
      ]
    },
    {
      "cell_type": "markdown",
      "metadata": {
        "id": "qhl-AgiZZkyd"
      },
      "source": [
        "Each element in the JSON array `features` is a row of data for our dataframe."
      ]
    },
    {
      "cell_type": "code",
      "execution_count": 5,
      "metadata": {
        "colab": {
          "base_uri": "https://localhost:8080/"
        },
        "id": "NGCeogpzZkye",
        "outputId": "27e15293-6faa-42d7-ae7b-ddea12bfb0d0"
      },
      "outputs": [
        {
          "output_type": "execute_result",
          "data": {
            "text/plain": [
              "list"
            ]
          },
          "metadata": {},
          "execution_count": 5
        }
      ],
      "source": [
        "type(earthquake_json['features'])"
      ]
    },
    {
      "cell_type": "markdown",
      "metadata": {
        "id": "uCWyXkVPZkye"
      },
      "source": [
        "Your data will be different depending on the date you run this."
      ]
    },
    {
      "cell_type": "code",
      "execution_count": 6,
      "metadata": {
        "colab": {
          "base_uri": "https://localhost:8080/"
        },
        "id": "coeOIM8XZkyf",
        "outputId": "f6aa45ae-cdfd-4749-e285-226802ba892f"
      },
      "outputs": [
        {
          "output_type": "execute_result",
          "data": {
            "text/plain": [
              "{'type': 'Feature',\n",
              " 'properties': {'mag': 0.99,\n",
              "  'place': '10 km ENE of Borrego Springs, CA',\n",
              "  'time': 1726530863440,\n",
              "  'updated': 1726610416368,\n",
              "  'tz': None,\n",
              "  'url': 'https://earthquake.usgs.gov/earthquakes/eventpage/ci40735615',\n",
              "  'detail': 'https://earthquake.usgs.gov/fdsnws/event/1/query?eventid=ci40735615&format=geojson',\n",
              "  'felt': None,\n",
              "  'cdi': None,\n",
              "  'mmi': None,\n",
              "  'alert': None,\n",
              "  'status': 'reviewed',\n",
              "  'tsunami': 0,\n",
              "  'sig': 15,\n",
              "  'net': 'ci',\n",
              "  'code': '40735615',\n",
              "  'ids': ',ci40735615,',\n",
              "  'sources': ',ci,',\n",
              "  'types': ',nearby-cities,origin,phase-data,scitech-link,',\n",
              "  'nst': 33,\n",
              "  'dmin': 0.06384,\n",
              "  'rms': 0.19,\n",
              "  'gap': 128,\n",
              "  'magType': 'ml',\n",
              "  'type': 'earthquake',\n",
              "  'title': 'M 1.0 - 10 km ENE of Borrego Springs, CA'},\n",
              " 'geometry': {'type': 'Point',\n",
              "  'coordinates': [-116.2848333, 33.3018333, 8.87]},\n",
              " 'id': 'ci40735615'}"
            ]
          },
          "metadata": {},
          "execution_count": 6
        }
      ],
      "source": [
        "earthquake_json['features'][0]"
      ]
    },
    {
      "cell_type": "markdown",
      "metadata": {
        "id": "ltYl-VWiZkyf"
      },
      "source": [
        "### Convert to DataFrame\n",
        "We need to grab the `properties` section out of every entry in the `features` JSON array to create our dataframe."
      ]
    },
    {
      "cell_type": "code",
      "execution_count": 7,
      "metadata": {
        "colab": {
          "base_uri": "https://localhost:8080/",
          "height": 568
        },
        "id": "Q2zGHzmzZkyg",
        "outputId": "d073c337-f7f3-4d09-9d0f-a13a73c4d69a"
      },
      "outputs": [
        {
          "output_type": "execute_result",
          "data": {
            "text/plain": [
              "    mag                                place           time        updated  \\\n",
              "0  0.99     10 km ENE of Borrego Springs, CA  1726530863440  1726610416368   \n",
              "1  1.40  48 km E of Fort Bidwell, California  1726530812264  1726531909484   \n",
              "2  2.90             40 km NW of Toyah, Texas  1726530571521  1726576602048   \n",
              "3  1.71                 6 km WNW of Cobb, CA  1726530241510  1726536738079   \n",
              "4  1.47           7 km SE of Valle Vista, CA  1726530120600  1726605626700   \n",
              "\n",
              "     tz                                                url  \\\n",
              "0  None  https://earthquake.usgs.gov/earthquakes/eventp...   \n",
              "1  None  https://earthquake.usgs.gov/earthquakes/eventp...   \n",
              "2  None  https://earthquake.usgs.gov/earthquakes/eventp...   \n",
              "3  None  https://earthquake.usgs.gov/earthquakes/eventp...   \n",
              "4  None  https://earthquake.usgs.gov/earthquakes/eventp...   \n",
              "\n",
              "                                              detail  felt  cdi  mmi  ...  \\\n",
              "0  https://earthquake.usgs.gov/fdsnws/event/1/que...   NaN  NaN  NaN  ...   \n",
              "1  https://earthquake.usgs.gov/fdsnws/event/1/que...   NaN  NaN  NaN  ...   \n",
              "2  https://earthquake.usgs.gov/fdsnws/event/1/que...   NaN  NaN  NaN  ...   \n",
              "3  https://earthquake.usgs.gov/fdsnws/event/1/que...   NaN  NaN  NaN  ...   \n",
              "4  https://earthquake.usgs.gov/fdsnws/event/1/que...   NaN  NaN  NaN  ...   \n",
              "\n",
              "                       ids  sources  \\\n",
              "0             ,ci40735615,     ,ci,   \n",
              "1             ,nn00884767,     ,nn,   \n",
              "2  ,us7000necp,tx2024shal,  ,us,tx,   \n",
              "3             ,nc75062841,     ,nc,   \n",
              "4             ,ci40735607,     ,ci,   \n",
              "\n",
              "                                               types   nst      dmin     rms  \\\n",
              "0     ,nearby-cities,origin,phase-data,scitech-link,  33.0  0.063840  0.1900   \n",
              "1                                ,origin,phase-data,   4.0  0.544000  0.1706   \n",
              "2                                ,origin,phase-data,  30.0  0.000000  0.2000   \n",
              "3  ,focal-mechanism,nearby-cities,origin,phase-da...  32.0  0.009456  0.0400   \n",
              "4  ,focal-mechanism,nearby-cities,origin,phase-da...  58.0  0.078200  0.2000   \n",
              "\n",
              "      gap magType        type                                        title  \n",
              "0  128.00      ml  earthquake     M 1.0 - 10 km ENE of Borrego Springs, CA  \n",
              "1  213.18      ml  earthquake  M 1.4 - 48 km E of Fort Bidwell, California  \n",
              "2   63.00      ml  earthquake             M 2.9 - 40 km NW of Toyah, Texas  \n",
              "3   32.00      md  earthquake                 M 1.7 - 6 km WNW of Cobb, CA  \n",
              "4   29.00      ml  earthquake           M 1.5 - 7 km SE of Valle Vista, CA  \n",
              "\n",
              "[5 rows x 26 columns]"
            ],
            "text/html": [
              "\n",
              "  <div id=\"df-05d9c23a-3186-4965-846d-c7bf3664b121\" class=\"colab-df-container\">\n",
              "    <div>\n",
              "<style scoped>\n",
              "    .dataframe tbody tr th:only-of-type {\n",
              "        vertical-align: middle;\n",
              "    }\n",
              "\n",
              "    .dataframe tbody tr th {\n",
              "        vertical-align: top;\n",
              "    }\n",
              "\n",
              "    .dataframe thead th {\n",
              "        text-align: right;\n",
              "    }\n",
              "</style>\n",
              "<table border=\"1\" class=\"dataframe\">\n",
              "  <thead>\n",
              "    <tr style=\"text-align: right;\">\n",
              "      <th></th>\n",
              "      <th>mag</th>\n",
              "      <th>place</th>\n",
              "      <th>time</th>\n",
              "      <th>updated</th>\n",
              "      <th>tz</th>\n",
              "      <th>url</th>\n",
              "      <th>detail</th>\n",
              "      <th>felt</th>\n",
              "      <th>cdi</th>\n",
              "      <th>mmi</th>\n",
              "      <th>...</th>\n",
              "      <th>ids</th>\n",
              "      <th>sources</th>\n",
              "      <th>types</th>\n",
              "      <th>nst</th>\n",
              "      <th>dmin</th>\n",
              "      <th>rms</th>\n",
              "      <th>gap</th>\n",
              "      <th>magType</th>\n",
              "      <th>type</th>\n",
              "      <th>title</th>\n",
              "    </tr>\n",
              "  </thead>\n",
              "  <tbody>\n",
              "    <tr>\n",
              "      <th>0</th>\n",
              "      <td>0.99</td>\n",
              "      <td>10 km ENE of Borrego Springs, CA</td>\n",
              "      <td>1726530863440</td>\n",
              "      <td>1726610416368</td>\n",
              "      <td>None</td>\n",
              "      <td>https://earthquake.usgs.gov/earthquakes/eventp...</td>\n",
              "      <td>https://earthquake.usgs.gov/fdsnws/event/1/que...</td>\n",
              "      <td>NaN</td>\n",
              "      <td>NaN</td>\n",
              "      <td>NaN</td>\n",
              "      <td>...</td>\n",
              "      <td>,ci40735615,</td>\n",
              "      <td>,ci,</td>\n",
              "      <td>,nearby-cities,origin,phase-data,scitech-link,</td>\n",
              "      <td>33.0</td>\n",
              "      <td>0.063840</td>\n",
              "      <td>0.1900</td>\n",
              "      <td>128.00</td>\n",
              "      <td>ml</td>\n",
              "      <td>earthquake</td>\n",
              "      <td>M 1.0 - 10 km ENE of Borrego Springs, CA</td>\n",
              "    </tr>\n",
              "    <tr>\n",
              "      <th>1</th>\n",
              "      <td>1.40</td>\n",
              "      <td>48 km E of Fort Bidwell, California</td>\n",
              "      <td>1726530812264</td>\n",
              "      <td>1726531909484</td>\n",
              "      <td>None</td>\n",
              "      <td>https://earthquake.usgs.gov/earthquakes/eventp...</td>\n",
              "      <td>https://earthquake.usgs.gov/fdsnws/event/1/que...</td>\n",
              "      <td>NaN</td>\n",
              "      <td>NaN</td>\n",
              "      <td>NaN</td>\n",
              "      <td>...</td>\n",
              "      <td>,nn00884767,</td>\n",
              "      <td>,nn,</td>\n",
              "      <td>,origin,phase-data,</td>\n",
              "      <td>4.0</td>\n",
              "      <td>0.544000</td>\n",
              "      <td>0.1706</td>\n",
              "      <td>213.18</td>\n",
              "      <td>ml</td>\n",
              "      <td>earthquake</td>\n",
              "      <td>M 1.4 - 48 km E of Fort Bidwell, California</td>\n",
              "    </tr>\n",
              "    <tr>\n",
              "      <th>2</th>\n",
              "      <td>2.90</td>\n",
              "      <td>40 km NW of Toyah, Texas</td>\n",
              "      <td>1726530571521</td>\n",
              "      <td>1726576602048</td>\n",
              "      <td>None</td>\n",
              "      <td>https://earthquake.usgs.gov/earthquakes/eventp...</td>\n",
              "      <td>https://earthquake.usgs.gov/fdsnws/event/1/que...</td>\n",
              "      <td>NaN</td>\n",
              "      <td>NaN</td>\n",
              "      <td>NaN</td>\n",
              "      <td>...</td>\n",
              "      <td>,us7000necp,tx2024shal,</td>\n",
              "      <td>,us,tx,</td>\n",
              "      <td>,origin,phase-data,</td>\n",
              "      <td>30.0</td>\n",
              "      <td>0.000000</td>\n",
              "      <td>0.2000</td>\n",
              "      <td>63.00</td>\n",
              "      <td>ml</td>\n",
              "      <td>earthquake</td>\n",
              "      <td>M 2.9 - 40 km NW of Toyah, Texas</td>\n",
              "    </tr>\n",
              "    <tr>\n",
              "      <th>3</th>\n",
              "      <td>1.71</td>\n",
              "      <td>6 km WNW of Cobb, CA</td>\n",
              "      <td>1726530241510</td>\n",
              "      <td>1726536738079</td>\n",
              "      <td>None</td>\n",
              "      <td>https://earthquake.usgs.gov/earthquakes/eventp...</td>\n",
              "      <td>https://earthquake.usgs.gov/fdsnws/event/1/que...</td>\n",
              "      <td>NaN</td>\n",
              "      <td>NaN</td>\n",
              "      <td>NaN</td>\n",
              "      <td>...</td>\n",
              "      <td>,nc75062841,</td>\n",
              "      <td>,nc,</td>\n",
              "      <td>,focal-mechanism,nearby-cities,origin,phase-da...</td>\n",
              "      <td>32.0</td>\n",
              "      <td>0.009456</td>\n",
              "      <td>0.0400</td>\n",
              "      <td>32.00</td>\n",
              "      <td>md</td>\n",
              "      <td>earthquake</td>\n",
              "      <td>M 1.7 - 6 km WNW of Cobb, CA</td>\n",
              "    </tr>\n",
              "    <tr>\n",
              "      <th>4</th>\n",
              "      <td>1.47</td>\n",
              "      <td>7 km SE of Valle Vista, CA</td>\n",
              "      <td>1726530120600</td>\n",
              "      <td>1726605626700</td>\n",
              "      <td>None</td>\n",
              "      <td>https://earthquake.usgs.gov/earthquakes/eventp...</td>\n",
              "      <td>https://earthquake.usgs.gov/fdsnws/event/1/que...</td>\n",
              "      <td>NaN</td>\n",
              "      <td>NaN</td>\n",
              "      <td>NaN</td>\n",
              "      <td>...</td>\n",
              "      <td>,ci40735607,</td>\n",
              "      <td>,ci,</td>\n",
              "      <td>,focal-mechanism,nearby-cities,origin,phase-da...</td>\n",
              "      <td>58.0</td>\n",
              "      <td>0.078200</td>\n",
              "      <td>0.2000</td>\n",
              "      <td>29.00</td>\n",
              "      <td>ml</td>\n",
              "      <td>earthquake</td>\n",
              "      <td>M 1.5 - 7 km SE of Valle Vista, CA</td>\n",
              "    </tr>\n",
              "  </tbody>\n",
              "</table>\n",
              "<p>5 rows × 26 columns</p>\n",
              "</div>\n",
              "    <div class=\"colab-df-buttons\">\n",
              "\n",
              "  <div class=\"colab-df-container\">\n",
              "    <button class=\"colab-df-convert\" onclick=\"convertToInteractive('df-05d9c23a-3186-4965-846d-c7bf3664b121')\"\n",
              "            title=\"Convert this dataframe to an interactive table.\"\n",
              "            style=\"display:none;\">\n",
              "\n",
              "  <svg xmlns=\"http://www.w3.org/2000/svg\" height=\"24px\" viewBox=\"0 -960 960 960\">\n",
              "    <path d=\"M120-120v-720h720v720H120Zm60-500h600v-160H180v160Zm220 220h160v-160H400v160Zm0 220h160v-160H400v160ZM180-400h160v-160H180v160Zm440 0h160v-160H620v160ZM180-180h160v-160H180v160Zm440 0h160v-160H620v160Z\"/>\n",
              "  </svg>\n",
              "    </button>\n",
              "\n",
              "  <style>\n",
              "    .colab-df-container {\n",
              "      display:flex;\n",
              "      gap: 12px;\n",
              "    }\n",
              "\n",
              "    .colab-df-convert {\n",
              "      background-color: #E8F0FE;\n",
              "      border: none;\n",
              "      border-radius: 50%;\n",
              "      cursor: pointer;\n",
              "      display: none;\n",
              "      fill: #1967D2;\n",
              "      height: 32px;\n",
              "      padding: 0 0 0 0;\n",
              "      width: 32px;\n",
              "    }\n",
              "\n",
              "    .colab-df-convert:hover {\n",
              "      background-color: #E2EBFA;\n",
              "      box-shadow: 0px 1px 2px rgba(60, 64, 67, 0.3), 0px 1px 3px 1px rgba(60, 64, 67, 0.15);\n",
              "      fill: #174EA6;\n",
              "    }\n",
              "\n",
              "    .colab-df-buttons div {\n",
              "      margin-bottom: 4px;\n",
              "    }\n",
              "\n",
              "    [theme=dark] .colab-df-convert {\n",
              "      background-color: #3B4455;\n",
              "      fill: #D2E3FC;\n",
              "    }\n",
              "\n",
              "    [theme=dark] .colab-df-convert:hover {\n",
              "      background-color: #434B5C;\n",
              "      box-shadow: 0px 1px 3px 1px rgba(0, 0, 0, 0.15);\n",
              "      filter: drop-shadow(0px 1px 2px rgba(0, 0, 0, 0.3));\n",
              "      fill: #FFFFFF;\n",
              "    }\n",
              "  </style>\n",
              "\n",
              "    <script>\n",
              "      const buttonEl =\n",
              "        document.querySelector('#df-05d9c23a-3186-4965-846d-c7bf3664b121 button.colab-df-convert');\n",
              "      buttonEl.style.display =\n",
              "        google.colab.kernel.accessAllowed ? 'block' : 'none';\n",
              "\n",
              "      async function convertToInteractive(key) {\n",
              "        const element = document.querySelector('#df-05d9c23a-3186-4965-846d-c7bf3664b121');\n",
              "        const dataTable =\n",
              "          await google.colab.kernel.invokeFunction('convertToInteractive',\n",
              "                                                    [key], {});\n",
              "        if (!dataTable) return;\n",
              "\n",
              "        const docLinkHtml = 'Like what you see? Visit the ' +\n",
              "          '<a target=\"_blank\" href=https://colab.research.google.com/notebooks/data_table.ipynb>data table notebook</a>'\n",
              "          + ' to learn more about interactive tables.';\n",
              "        element.innerHTML = '';\n",
              "        dataTable['output_type'] = 'display_data';\n",
              "        await google.colab.output.renderOutput(dataTable, element);\n",
              "        const docLink = document.createElement('div');\n",
              "        docLink.innerHTML = docLinkHtml;\n",
              "        element.appendChild(docLink);\n",
              "      }\n",
              "    </script>\n",
              "  </div>\n",
              "\n",
              "\n",
              "<div id=\"df-89dc00b7-52a2-43e4-b988-d8b950885ead\">\n",
              "  <button class=\"colab-df-quickchart\" onclick=\"quickchart('df-89dc00b7-52a2-43e4-b988-d8b950885ead')\"\n",
              "            title=\"Suggest charts\"\n",
              "            style=\"display:none;\">\n",
              "\n",
              "<svg xmlns=\"http://www.w3.org/2000/svg\" height=\"24px\"viewBox=\"0 0 24 24\"\n",
              "     width=\"24px\">\n",
              "    <g>\n",
              "        <path d=\"M19 3H5c-1.1 0-2 .9-2 2v14c0 1.1.9 2 2 2h14c1.1 0 2-.9 2-2V5c0-1.1-.9-2-2-2zM9 17H7v-7h2v7zm4 0h-2V7h2v10zm4 0h-2v-4h2v4z\"/>\n",
              "    </g>\n",
              "</svg>\n",
              "  </button>\n",
              "\n",
              "<style>\n",
              "  .colab-df-quickchart {\n",
              "      --bg-color: #E8F0FE;\n",
              "      --fill-color: #1967D2;\n",
              "      --hover-bg-color: #E2EBFA;\n",
              "      --hover-fill-color: #174EA6;\n",
              "      --disabled-fill-color: #AAA;\n",
              "      --disabled-bg-color: #DDD;\n",
              "  }\n",
              "\n",
              "  [theme=dark] .colab-df-quickchart {\n",
              "      --bg-color: #3B4455;\n",
              "      --fill-color: #D2E3FC;\n",
              "      --hover-bg-color: #434B5C;\n",
              "      --hover-fill-color: #FFFFFF;\n",
              "      --disabled-bg-color: #3B4455;\n",
              "      --disabled-fill-color: #666;\n",
              "  }\n",
              "\n",
              "  .colab-df-quickchart {\n",
              "    background-color: var(--bg-color);\n",
              "    border: none;\n",
              "    border-radius: 50%;\n",
              "    cursor: pointer;\n",
              "    display: none;\n",
              "    fill: var(--fill-color);\n",
              "    height: 32px;\n",
              "    padding: 0;\n",
              "    width: 32px;\n",
              "  }\n",
              "\n",
              "  .colab-df-quickchart:hover {\n",
              "    background-color: var(--hover-bg-color);\n",
              "    box-shadow: 0 1px 2px rgba(60, 64, 67, 0.3), 0 1px 3px 1px rgba(60, 64, 67, 0.15);\n",
              "    fill: var(--button-hover-fill-color);\n",
              "  }\n",
              "\n",
              "  .colab-df-quickchart-complete:disabled,\n",
              "  .colab-df-quickchart-complete:disabled:hover {\n",
              "    background-color: var(--disabled-bg-color);\n",
              "    fill: var(--disabled-fill-color);\n",
              "    box-shadow: none;\n",
              "  }\n",
              "\n",
              "  .colab-df-spinner {\n",
              "    border: 2px solid var(--fill-color);\n",
              "    border-color: transparent;\n",
              "    border-bottom-color: var(--fill-color);\n",
              "    animation:\n",
              "      spin 1s steps(1) infinite;\n",
              "  }\n",
              "\n",
              "  @keyframes spin {\n",
              "    0% {\n",
              "      border-color: transparent;\n",
              "      border-bottom-color: var(--fill-color);\n",
              "      border-left-color: var(--fill-color);\n",
              "    }\n",
              "    20% {\n",
              "      border-color: transparent;\n",
              "      border-left-color: var(--fill-color);\n",
              "      border-top-color: var(--fill-color);\n",
              "    }\n",
              "    30% {\n",
              "      border-color: transparent;\n",
              "      border-left-color: var(--fill-color);\n",
              "      border-top-color: var(--fill-color);\n",
              "      border-right-color: var(--fill-color);\n",
              "    }\n",
              "    40% {\n",
              "      border-color: transparent;\n",
              "      border-right-color: var(--fill-color);\n",
              "      border-top-color: var(--fill-color);\n",
              "    }\n",
              "    60% {\n",
              "      border-color: transparent;\n",
              "      border-right-color: var(--fill-color);\n",
              "    }\n",
              "    80% {\n",
              "      border-color: transparent;\n",
              "      border-right-color: var(--fill-color);\n",
              "      border-bottom-color: var(--fill-color);\n",
              "    }\n",
              "    90% {\n",
              "      border-color: transparent;\n",
              "      border-bottom-color: var(--fill-color);\n",
              "    }\n",
              "  }\n",
              "</style>\n",
              "\n",
              "  <script>\n",
              "    async function quickchart(key) {\n",
              "      const quickchartButtonEl =\n",
              "        document.querySelector('#' + key + ' button');\n",
              "      quickchartButtonEl.disabled = true;  // To prevent multiple clicks.\n",
              "      quickchartButtonEl.classList.add('colab-df-spinner');\n",
              "      try {\n",
              "        const charts = await google.colab.kernel.invokeFunction(\n",
              "            'suggestCharts', [key], {});\n",
              "      } catch (error) {\n",
              "        console.error('Error during call to suggestCharts:', error);\n",
              "      }\n",
              "      quickchartButtonEl.classList.remove('colab-df-spinner');\n",
              "      quickchartButtonEl.classList.add('colab-df-quickchart-complete');\n",
              "    }\n",
              "    (() => {\n",
              "      let quickchartButtonEl =\n",
              "        document.querySelector('#df-89dc00b7-52a2-43e4-b988-d8b950885ead button');\n",
              "      quickchartButtonEl.style.display =\n",
              "        google.colab.kernel.accessAllowed ? 'block' : 'none';\n",
              "    })();\n",
              "  </script>\n",
              "</div>\n",
              "\n",
              "    </div>\n",
              "  </div>\n"
            ],
            "application/vnd.google.colaboratory.intrinsic+json": {
              "type": "dataframe",
              "variable_name": "df"
            }
          },
          "metadata": {},
          "execution_count": 7
        }
      ],
      "source": [
        "earthquake_properties_data = [\n",
        "    quake['properties'] for quake in earthquake_json['features']\n",
        "]\n",
        "df = pd.DataFrame(earthquake_properties_data)\n",
        "df.head()"
      ]
    },
    {
      "cell_type": "markdown",
      "metadata": {
        "id": "AfJMTrfuZkyg"
      },
      "source": [
        "### (Optional) Write Data to CSV"
      ]
    },
    {
      "cell_type": "code",
      "execution_count": 8,
      "metadata": {
        "id": "klwKBE7SZkyg"
      },
      "outputs": [],
      "source": [
        "df.to_csv('earthquakes.csv', index=False)"
      ]
    },
    {
      "cell_type": "markdown",
      "metadata": {
        "id": "uel57T2sZkyh"
      },
      "source": [
        "<hr>\n",
        "<div>\n",
        "    <a href=\"./2-creating_dataframes.ipynb\">\n",
        "        <button style=\"float: left;\">&#8592; Previous Notebook</button>\n",
        "    </a>\n",
        "    <a href=\"./4-inspecting_dataframes.ipynb\">\n",
        "        <button style=\"float: right;\">Next Notebook &#8594;</button>\n",
        "    </a>\n",
        "</div>\n",
        "<br>\n",
        "<hr>"
      ]
    },
    {
      "cell_type": "code",
      "source": [],
      "metadata": {
        "id": "dkOO0NB_ZnpZ"
      },
      "execution_count": 8,
      "outputs": []
    }
  ],
  "metadata": {
    "kernelspec": {
      "display_name": "Python 3",
      "language": "python",
      "name": "python3"
    },
    "language_info": {
      "codemirror_mode": {
        "name": "ipython",
        "version": 3
      },
      "file_extension": ".py",
      "mimetype": "text/x-python",
      "name": "python",
      "nbconvert_exporter": "python",
      "pygments_lexer": "ipython3",
      "version": "3.7.3"
    },
    "colab": {
      "provenance": [],
      "include_colab_link": true
    }
  },
  "nbformat": 4,
  "nbformat_minor": 0
}